{
 "cells": [
  {
   "cell_type": "markdown",
   "id": "8e184f7e",
   "metadata": {},
   "source": [
    "# Video Game Sales\n"
   ]
  },
  {
   "cell_type": "code",
   "execution_count": 47,
   "id": "7d582152",
   "metadata": {},
   "outputs": [
    {
     "name": "stdout",
     "output_type": "stream",
     "text": [
      "Welcome to Kholood Project:video game sales.\n"
     ]
    }
   ],
   "source": [
    "print(\"Welcome to Kholood Project:video game sales.\")"
   ]
  },
  {
   "cell_type": "markdown",
   "id": "8e2372b9",
   "metadata": {},
   "source": [
    "    Welcome to my Project.In this Project I will perform Exploratory data analysis, data visualizations and Modling of the video game sales.For EDA,I am using Python programming language, for data visualization,I am using Matplotlib and Seaborn and for data modling,I am using sketlearn.\n"
   ]
  },
  {
   "cell_type": "markdown",
   "id": "32572480",
   "metadata": {},
   "source": [
    "## Dateset"
   ]
  },
  {
   "cell_type": "markdown",
   "id": "96ba5dcb",
   "metadata": {},
   "source": [
    "    The dataset is provided in .csv format.This dataset contains a list of video games with  greater sales. It contains 16,598 records, each record has 11 features. The most relevant feature to this project is Total worldwide sales.This feature is extracted from other features such as Sales in North America,Sales in Europe,Sales in Japan, and Sales in the rest of the world. \n",
    "\n",
    "Fields include\n",
    "•\tRank - Ranking of overall sales\n",
    "•\tName - The games name\n",
    "•\tPlatform - Platform of the games release (i.e. PC,PS4, etc.)\n",
    "•\tYear - Year of the game's release\n",
    "•\tGenre - Genre of the game\n",
    "•\tPublisher - Publisher of the game\n",
    "•\tNA_Sales - Sales in North America (in millions)\n",
    "•\tEU_Sales - Sales in Europe (in millions)\n",
    "•\tJP_Sales - Sales in Japan (in millions)\n",
    "•\tOther_Sales - Sales in the rest of the world (in millions)\n",
    "•\tGlobal_Sales - Total worldwide sales.\n"
   ]
  },
  {
   "cell_type": "markdown",
   "id": "41b30957",
   "metadata": {},
   "source": [
    "    Step 1: Identify your Problem & Goal\n",
    "\n",
    "The Goal:\n",
    "\n",
    "I will try to answer the following questions:\n",
    "\n",
    "1. Global Sales Distribution.\n",
    "2. The video games produced in a each year.\n",
    "3. which genre sold the most globally?\n",
    "4. The platform,game and the publisher which has the top sales in global sales\n",
    "5. The platform,game and the publisher which has the low sales in global sales\n",
    "6. How does the Genre affect the Global_Sales?\n",
    "7. What are most games produced in a specific Gaming Platform?\n",
    "\n",
    "\n",
    "Let us get started\n"
   ]
  },
  {
   "cell_type": "markdown",
   "id": "8f4f461d",
   "metadata": {},
   "source": [
    "## EDA in Python"
   ]
  },
  {
   "cell_type": "markdown",
   "id": "3e2ad18d",
   "metadata": {},
   "source": [
    "Multiple libraries are available to perform basic EDA but I am going to use pandas, matplotlib and seaborn for this project. Pandas for data manipulation and matplotlib and seaborn, for plotting graphs. Jupyter Nootbooks to write code and other findings. Jupyter notebooks is kind of diary for data analysis and scientists, a web based platform where you can mix Python, html and Markdown to explain your data insights."
   ]
  },
  {
   "cell_type": "markdown",
   "id": "011afbe1",
   "metadata": {},
   "source": [
    "    Step 2: Gather and clean your data\n",
    "1. Import libraries and load datase"
   ]
  },
  {
   "cell_type": "code",
   "execution_count": 48,
   "id": "4fd41bf3",
   "metadata": {},
   "outputs": [],
   "source": [
    "import numpy as np # linear algebra\n",
    "import pandas as pd # data processing, CSV file I/O (e.g. pd.read_csv)\n",
    "import matplotlib.pyplot as plt # for data visualization\n",
    "%matplotlib inline\n",
    "import seaborn as sns # for advanced data visualizations\n",
    "dataset = pd.read_csv(\"VideoGameSales.csv\")"
   ]
  },
  {
   "cell_type": "markdown",
   "id": "29f44a2b",
   "metadata": {},
   "source": [
    "2. summarize the data"
   ]
  },
  {
   "cell_type": "code",
   "execution_count": 49,
   "id": "cc8a4f85",
   "metadata": {},
   "outputs": [
    {
     "data": {
      "text/plain": [
       "(16598, 11)"
      ]
     },
     "execution_count": 49,
     "metadata": {},
     "output_type": "execute_result"
    }
   ],
   "source": [
    "dataset.shape#Show total number of rows and columns in the datase"
   ]
  },
  {
   "cell_type": "code",
   "execution_count": 111,
   "id": "83fc88dd",
   "metadata": {},
   "outputs": [
    {
     "data": {
      "text/html": [
       "<div>\n",
       "<style scoped>\n",
       "    .dataframe tbody tr th:only-of-type {\n",
       "        vertical-align: middle;\n",
       "    }\n",
       "\n",
       "    .dataframe tbody tr th {\n",
       "        vertical-align: top;\n",
       "    }\n",
       "\n",
       "    .dataframe thead th {\n",
       "        text-align: right;\n",
       "    }\n",
       "</style>\n",
       "<table border=\"1\" class=\"dataframe\">\n",
       "  <thead>\n",
       "    <tr style=\"text-align: right;\">\n",
       "      <th></th>\n",
       "      <th>Rank</th>\n",
       "      <th>Name</th>\n",
       "      <th>Platform</th>\n",
       "      <th>Year</th>\n",
       "      <th>Genre</th>\n",
       "      <th>Publisher</th>\n",
       "      <th>NA_Sales</th>\n",
       "      <th>EU_Sales</th>\n",
       "      <th>JP_Sales</th>\n",
       "      <th>Other_Sales</th>\n",
       "      <th>Global_Sales</th>\n",
       "    </tr>\n",
       "  </thead>\n",
       "  <tbody>\n",
       "    <tr>\n",
       "      <th>0</th>\n",
       "      <td>1</td>\n",
       "      <td>Wii Sports</td>\n",
       "      <td>Wii</td>\n",
       "      <td>2006.0</td>\n",
       "      <td>Sports</td>\n",
       "      <td>Nintendo</td>\n",
       "      <td>41.49</td>\n",
       "      <td>29.02</td>\n",
       "      <td>3.77</td>\n",
       "      <td>8.46</td>\n",
       "      <td>82.74</td>\n",
       "    </tr>\n",
       "    <tr>\n",
       "      <th>1</th>\n",
       "      <td>2</td>\n",
       "      <td>Super Mario Bros.</td>\n",
       "      <td>NES</td>\n",
       "      <td>1985.0</td>\n",
       "      <td>Platform</td>\n",
       "      <td>Nintendo</td>\n",
       "      <td>29.08</td>\n",
       "      <td>3.58</td>\n",
       "      <td>6.81</td>\n",
       "      <td>0.77</td>\n",
       "      <td>40.24</td>\n",
       "    </tr>\n",
       "    <tr>\n",
       "      <th>2</th>\n",
       "      <td>3</td>\n",
       "      <td>Mario Kart Wii</td>\n",
       "      <td>Wii</td>\n",
       "      <td>2008.0</td>\n",
       "      <td>Racing</td>\n",
       "      <td>Nintendo</td>\n",
       "      <td>15.85</td>\n",
       "      <td>12.88</td>\n",
       "      <td>3.79</td>\n",
       "      <td>3.31</td>\n",
       "      <td>35.82</td>\n",
       "    </tr>\n",
       "    <tr>\n",
       "      <th>3</th>\n",
       "      <td>4</td>\n",
       "      <td>Wii Sports Resort</td>\n",
       "      <td>Wii</td>\n",
       "      <td>2009.0</td>\n",
       "      <td>Sports</td>\n",
       "      <td>Nintendo</td>\n",
       "      <td>15.75</td>\n",
       "      <td>11.01</td>\n",
       "      <td>3.28</td>\n",
       "      <td>2.96</td>\n",
       "      <td>33.00</td>\n",
       "    </tr>\n",
       "    <tr>\n",
       "      <th>4</th>\n",
       "      <td>5</td>\n",
       "      <td>Pokemon Red/Pokemon Blue</td>\n",
       "      <td>GB</td>\n",
       "      <td>1996.0</td>\n",
       "      <td>Role-Playing</td>\n",
       "      <td>Nintendo</td>\n",
       "      <td>11.27</td>\n",
       "      <td>8.89</td>\n",
       "      <td>10.22</td>\n",
       "      <td>1.00</td>\n",
       "      <td>31.37</td>\n",
       "    </tr>\n",
       "  </tbody>\n",
       "</table>\n",
       "</div>"
      ],
      "text/plain": [
       "   Rank                      Name Platform    Year         Genre Publisher  \\\n",
       "0     1                Wii Sports      Wii  2006.0        Sports  Nintendo   \n",
       "1     2         Super Mario Bros.      NES  1985.0      Platform  Nintendo   \n",
       "2     3            Mario Kart Wii      Wii  2008.0        Racing  Nintendo   \n",
       "3     4         Wii Sports Resort      Wii  2009.0        Sports  Nintendo   \n",
       "4     5  Pokemon Red/Pokemon Blue       GB  1996.0  Role-Playing  Nintendo   \n",
       "\n",
       "   NA_Sales  EU_Sales  JP_Sales  Other_Sales  Global_Sales  \n",
       "0     41.49     29.02      3.77         8.46         82.74  \n",
       "1     29.08      3.58      6.81         0.77         40.24  \n",
       "2     15.85     12.88      3.79         3.31         35.82  \n",
       "3     15.75     11.01      3.28         2.96         33.00  \n",
       "4     11.27      8.89     10.22         1.00         31.37  "
      ]
     },
     "execution_count": 111,
     "metadata": {},
     "output_type": "execute_result"
    }
   ],
   "source": [
    "dataset.head()#show the Top 5 rows\n"
   ]
  },
  {
   "cell_type": "code",
   "execution_count": 51,
   "id": "1ebbb003",
   "metadata": {},
   "outputs": [
    {
     "data": {
      "text/plain": [
       "<bound method DataFrame.info of         Rank                                              Name Platform  \\\n",
       "0          1                                        Wii Sports      Wii   \n",
       "1          2                                 Super Mario Bros.      NES   \n",
       "2          3                                    Mario Kart Wii      Wii   \n",
       "3          4                                 Wii Sports Resort      Wii   \n",
       "4          5                          Pokemon Red/Pokemon Blue       GB   \n",
       "...      ...                                               ...      ...   \n",
       "16593  16596                Woody Woodpecker in Crazy Castle 5      GBA   \n",
       "16594  16597                     Men in Black II: Alien Escape       GC   \n",
       "16595  16598  SCORE International Baja 1000: The Official Game      PS2   \n",
       "16596  16599                                        Know How 2       DS   \n",
       "16597  16600                                  Spirits & Spells      GBA   \n",
       "\n",
       "         Year         Genre   Publisher  NA_Sales  EU_Sales  JP_Sales  \\\n",
       "0      2006.0        Sports    Nintendo     41.49     29.02      3.77   \n",
       "1      1985.0      Platform    Nintendo     29.08      3.58      6.81   \n",
       "2      2008.0        Racing    Nintendo     15.85     12.88      3.79   \n",
       "3      2009.0        Sports    Nintendo     15.75     11.01      3.28   \n",
       "4      1996.0  Role-Playing    Nintendo     11.27      8.89     10.22   \n",
       "...       ...           ...         ...       ...       ...       ...   \n",
       "16593  2002.0      Platform       Kemco      0.01      0.00      0.00   \n",
       "16594  2003.0       Shooter  Infogrames      0.01      0.00      0.00   \n",
       "16595  2008.0        Racing  Activision      0.00      0.00      0.00   \n",
       "16596  2010.0        Puzzle    7G//AMES      0.00      0.01      0.00   \n",
       "16597  2003.0      Platform     Wanadoo      0.01      0.00      0.00   \n",
       "\n",
       "       Other_Sales  Global_Sales  \n",
       "0             8.46         82.74  \n",
       "1             0.77         40.24  \n",
       "2             3.31         35.82  \n",
       "3             2.96         33.00  \n",
       "4             1.00         31.37  \n",
       "...            ...           ...  \n",
       "16593         0.00          0.01  \n",
       "16594         0.00          0.01  \n",
       "16595         0.00          0.01  \n",
       "16596         0.00          0.01  \n",
       "16597         0.00          0.01  \n",
       "\n",
       "[16598 rows x 11 columns]>"
      ]
     },
     "execution_count": 51,
     "metadata": {},
     "output_type": "execute_result"
    }
   ],
   "source": [
    "dataset.info"
   ]
  },
  {
   "cell_type": "code",
   "execution_count": 52,
   "id": "7b8d8c26",
   "metadata": {},
   "outputs": [
    {
     "name": "stdout",
     "output_type": "stream",
     "text": [
      "<class 'pandas.core.frame.DataFrame'>\n",
      "RangeIndex: 16598 entries, 0 to 16597\n",
      "Data columns (total 11 columns):\n",
      " #   Column        Non-Null Count  Dtype  \n",
      "---  ------        --------------  -----  \n",
      " 0   Rank          16598 non-null  int64  \n",
      " 1   Name          16598 non-null  object \n",
      " 2   Platform      16598 non-null  object \n",
      " 3   Year          16327 non-null  float64\n",
      " 4   Genre         16598 non-null  object \n",
      " 5   Publisher     16540 non-null  object \n",
      " 6   NA_Sales      16598 non-null  float64\n",
      " 7   EU_Sales      16598 non-null  float64\n",
      " 8   JP_Sales      16598 non-null  float64\n",
      " 9   Other_Sales   16598 non-null  float64\n",
      " 10  Global_Sales  16598 non-null  float64\n",
      "dtypes: float64(6), int64(1), object(4)\n",
      "memory usage: 1.4+ MB\n"
     ]
    }
   ],
   "source": [
    "dataset.info()#Gives a basic overview of all the columns present in our dataset."
   ]
  },
  {
   "cell_type": "code",
   "execution_count": 53,
   "id": "8caaf476",
   "metadata": {},
   "outputs": [
    {
     "data": {
      "text/html": [
       "<div>\n",
       "<style scoped>\n",
       "    .dataframe tbody tr th:only-of-type {\n",
       "        vertical-align: middle;\n",
       "    }\n",
       "\n",
       "    .dataframe tbody tr th {\n",
       "        vertical-align: top;\n",
       "    }\n",
       "\n",
       "    .dataframe thead th {\n",
       "        text-align: right;\n",
       "    }\n",
       "</style>\n",
       "<table border=\"1\" class=\"dataframe\">\n",
       "  <thead>\n",
       "    <tr style=\"text-align: right;\">\n",
       "      <th></th>\n",
       "      <th>Rank</th>\n",
       "      <th>Year</th>\n",
       "      <th>NA_Sales</th>\n",
       "      <th>EU_Sales</th>\n",
       "      <th>JP_Sales</th>\n",
       "      <th>Other_Sales</th>\n",
       "      <th>Global_Sales</th>\n",
       "    </tr>\n",
       "  </thead>\n",
       "  <tbody>\n",
       "    <tr>\n",
       "      <th>count</th>\n",
       "      <td>16598.000000</td>\n",
       "      <td>16327.000000</td>\n",
       "      <td>16598.000000</td>\n",
       "      <td>16598.000000</td>\n",
       "      <td>16598.000000</td>\n",
       "      <td>16598.000000</td>\n",
       "      <td>16598.000000</td>\n",
       "    </tr>\n",
       "    <tr>\n",
       "      <th>mean</th>\n",
       "      <td>8300.605254</td>\n",
       "      <td>2006.406443</td>\n",
       "      <td>0.264667</td>\n",
       "      <td>0.146652</td>\n",
       "      <td>0.077782</td>\n",
       "      <td>0.048063</td>\n",
       "      <td>0.537441</td>\n",
       "    </tr>\n",
       "    <tr>\n",
       "      <th>std</th>\n",
       "      <td>4791.853933</td>\n",
       "      <td>5.828981</td>\n",
       "      <td>0.816683</td>\n",
       "      <td>0.505351</td>\n",
       "      <td>0.309291</td>\n",
       "      <td>0.188588</td>\n",
       "      <td>1.555028</td>\n",
       "    </tr>\n",
       "    <tr>\n",
       "      <th>min</th>\n",
       "      <td>1.000000</td>\n",
       "      <td>1980.000000</td>\n",
       "      <td>0.000000</td>\n",
       "      <td>0.000000</td>\n",
       "      <td>0.000000</td>\n",
       "      <td>0.000000</td>\n",
       "      <td>0.010000</td>\n",
       "    </tr>\n",
       "    <tr>\n",
       "      <th>25%</th>\n",
       "      <td>4151.250000</td>\n",
       "      <td>2003.000000</td>\n",
       "      <td>0.000000</td>\n",
       "      <td>0.000000</td>\n",
       "      <td>0.000000</td>\n",
       "      <td>0.000000</td>\n",
       "      <td>0.060000</td>\n",
       "    </tr>\n",
       "    <tr>\n",
       "      <th>50%</th>\n",
       "      <td>8300.500000</td>\n",
       "      <td>2007.000000</td>\n",
       "      <td>0.080000</td>\n",
       "      <td>0.020000</td>\n",
       "      <td>0.000000</td>\n",
       "      <td>0.010000</td>\n",
       "      <td>0.170000</td>\n",
       "    </tr>\n",
       "    <tr>\n",
       "      <th>75%</th>\n",
       "      <td>12449.750000</td>\n",
       "      <td>2010.000000</td>\n",
       "      <td>0.240000</td>\n",
       "      <td>0.110000</td>\n",
       "      <td>0.040000</td>\n",
       "      <td>0.040000</td>\n",
       "      <td>0.470000</td>\n",
       "    </tr>\n",
       "    <tr>\n",
       "      <th>max</th>\n",
       "      <td>16600.000000</td>\n",
       "      <td>2020.000000</td>\n",
       "      <td>41.490000</td>\n",
       "      <td>29.020000</td>\n",
       "      <td>10.220000</td>\n",
       "      <td>10.570000</td>\n",
       "      <td>82.740000</td>\n",
       "    </tr>\n",
       "  </tbody>\n",
       "</table>\n",
       "</div>"
      ],
      "text/plain": [
       "               Rank          Year      NA_Sales      EU_Sales      JP_Sales  \\\n",
       "count  16598.000000  16327.000000  16598.000000  16598.000000  16598.000000   \n",
       "mean    8300.605254   2006.406443      0.264667      0.146652      0.077782   \n",
       "std     4791.853933      5.828981      0.816683      0.505351      0.309291   \n",
       "min        1.000000   1980.000000      0.000000      0.000000      0.000000   \n",
       "25%     4151.250000   2003.000000      0.000000      0.000000      0.000000   \n",
       "50%     8300.500000   2007.000000      0.080000      0.020000      0.000000   \n",
       "75%    12449.750000   2010.000000      0.240000      0.110000      0.040000   \n",
       "max    16600.000000   2020.000000     41.490000     29.020000     10.220000   \n",
       "\n",
       "        Other_Sales  Global_Sales  \n",
       "count  16598.000000  16598.000000  \n",
       "mean       0.048063      0.537441  \n",
       "std        0.188588      1.555028  \n",
       "min        0.000000      0.010000  \n",
       "25%        0.000000      0.060000  \n",
       "50%        0.010000      0.170000  \n",
       "75%        0.040000      0.470000  \n",
       "max       10.570000     82.740000  "
      ]
     },
     "execution_count": 53,
     "metadata": {},
     "output_type": "execute_result"
    }
   ],
   "source": [
    "dataset.describe()#provides information on numerical data in our dataset."
   ]
  },
  {
   "cell_type": "markdown",
   "id": "75581527",
   "metadata": {},
   "source": [
    "3.  check Concise info (columns data type) of dataset"
   ]
  },
  {
   "cell_type": "code",
   "execution_count": 54,
   "id": "f5aa6a81",
   "metadata": {},
   "outputs": [
    {
     "name": "stdout",
     "output_type": "stream",
     "text": [
      "<class 'pandas.core.frame.DataFrame'>\n",
      "RangeIndex: 16598 entries, 0 to 16597\n",
      "Data columns (total 11 columns):\n",
      " #   Column        Non-Null Count  Dtype  \n",
      "---  ------        --------------  -----  \n",
      " 0   Rank          16598 non-null  int64  \n",
      " 1   Name          16598 non-null  object \n",
      " 2   Platform      16598 non-null  object \n",
      " 3   Year          16327 non-null  float64\n",
      " 4   Genre         16598 non-null  object \n",
      " 5   Publisher     16540 non-null  object \n",
      " 6   NA_Sales      16598 non-null  float64\n",
      " 7   EU_Sales      16598 non-null  float64\n",
      " 8   JP_Sales      16598 non-null  float64\n",
      " 9   Other_Sales   16598 non-null  float64\n",
      " 10  Global_Sales  16598 non-null  float64\n",
      "dtypes: float64(6), int64(1), object(4)\n",
      "memory usage: 1.4+ MB\n"
     ]
    }
   ],
   "source": [
    "dataset.info()"
   ]
  },
  {
   "cell_type": "markdown",
   "id": "4bd4fc21",
   "metadata": {},
   "source": [
    "4. check our data is clean or not"
   ]
  },
  {
   "cell_type": "code",
   "execution_count": 55,
   "id": "e5a384e1",
   "metadata": {},
   "outputs": [
    {
     "data": {
      "text/plain": [
       "True"
      ]
     },
     "execution_count": 55,
     "metadata": {},
     "output_type": "execute_result"
    }
   ],
   "source": [
    "\n",
    "dataset.isnull().values.any()# Checking for null values in the dataset"
   ]
  },
  {
   "cell_type": "code",
   "execution_count": 56,
   "id": "1848c587",
   "metadata": {},
   "outputs": [
    {
     "data": {
      "text/plain": [
       "Rank              0\n",
       "Name              0\n",
       "Platform          0\n",
       "Year            271\n",
       "Genre             0\n",
       "Publisher        58\n",
       "NA_Sales          0\n",
       "EU_Sales          0\n",
       "JP_Sales          0\n",
       "Other_Sales       0\n",
       "Global_Sales      0\n",
       "dtype: int64"
      ]
     },
     "execution_count": 56,
     "metadata": {},
     "output_type": "execute_result"
    }
   ],
   "source": [
    "dataset.isna().sum()# Checking which columns contain null values"
   ]
  },
  {
   "cell_type": "markdown",
   "id": "f04766a7",
   "metadata": {},
   "source": [
    "Above results show that out of 11 variables, 2 variables Year and Publisher have missing values. There are aroud 271 records in Year column and around 58 records in Publisher column whoch are NA Value records."
   ]
  },
  {
   "cell_type": "markdown",
   "id": "8a527d15",
   "metadata": {},
   "source": [
    "### Let’s check the percentage of the data are missing column"
   ]
  },
  {
   "cell_type": "code",
   "execution_count": 57,
   "id": "fd3ebc6d",
   "metadata": {},
   "outputs": [
    {
     "data": {
      "text/plain": [
       "Rank            0.000000\n",
       "Name            0.000000\n",
       "Platform        0.000000\n",
       "Year            1.632727\n",
       "Genre           0.000000\n",
       "Publisher       0.349440\n",
       "NA_Sales        0.000000\n",
       "EU_Sales        0.000000\n",
       "JP_Sales        0.000000\n",
       "Other_Sales     0.000000\n",
       "Global_Sales    0.000000\n",
       "dtype: float64"
      ]
     },
     "execution_count": 57,
     "metadata": {},
     "output_type": "execute_result"
    }
   ],
   "source": [
    "dataset.isna().sum()/(len(dataset))*100"
   ]
  },
  {
   "cell_type": "markdown",
   "id": "c4333bfb",
   "metadata": {},
   "source": [
    "Since the % of the data missing is very less, I can remove those rows from the dataset"
   ]
  },
  {
   "cell_type": "code",
   "execution_count": 58,
   "id": "b66d8f6a",
   "metadata": {},
   "outputs": [],
   "source": [
    "dataset = dataset.dropna(axis=0, subset=['Year','Publisher'])# Removing the missing value rows in the dataset"
   ]
  },
  {
   "cell_type": "code",
   "execution_count": 59,
   "id": "351a2958",
   "metadata": {},
   "outputs": [
    {
     "data": {
      "text/plain": [
       "False"
      ]
     },
     "execution_count": 59,
     "metadata": {},
     "output_type": "execute_result"
    }
   ],
   "source": [
    "dataset.isnull().values.any()# checking the missing value it Removing or not "
   ]
  },
  {
   "cell_type": "code",
   "execution_count": 60,
   "id": "9433555c",
   "metadata": {},
   "outputs": [
    {
     "data": {
      "text/plain": [
       "Rank            0\n",
       "Name            0\n",
       "Platform        0\n",
       "Year            0\n",
       "Genre           0\n",
       "Publisher       0\n",
       "NA_Sales        0\n",
       "EU_Sales        0\n",
       "JP_Sales        0\n",
       "Other_Sales     0\n",
       "Global_Sales    0\n",
       "dtype: int64"
      ]
     },
     "execution_count": 60,
     "metadata": {},
     "output_type": "execute_result"
    }
   ],
   "source": [
    "dataset.isna().sum()# checking the missing value it Removing or not "
   ]
  },
  {
   "cell_type": "code",
   "execution_count": 61,
   "id": "4b673fbe",
   "metadata": {},
   "outputs": [
    {
     "data": {
      "text/plain": [
       "(16291, 11)"
      ]
     },
     "execution_count": 61,
     "metadata": {},
     "output_type": "execute_result"
    }
   ],
   "source": [
    "dataset.shape"
   ]
  },
  {
   "cell_type": "code",
   "execution_count": 62,
   "id": "eaf5d80d",
   "metadata": {},
   "outputs": [
    {
     "name": "stdout",
     "output_type": "stream",
     "text": [
      "Duplicate Rows :\n"
     ]
    },
    {
     "data": {
      "text/html": [
       "<div>\n",
       "<style scoped>\n",
       "    .dataframe tbody tr th:only-of-type {\n",
       "        vertical-align: middle;\n",
       "    }\n",
       "\n",
       "    .dataframe tbody tr th {\n",
       "        vertical-align: top;\n",
       "    }\n",
       "\n",
       "    .dataframe thead th {\n",
       "        text-align: right;\n",
       "    }\n",
       "</style>\n",
       "<table border=\"1\" class=\"dataframe\">\n",
       "  <thead>\n",
       "    <tr style=\"text-align: right;\">\n",
       "      <th></th>\n",
       "      <th>Rank</th>\n",
       "      <th>Name</th>\n",
       "      <th>Platform</th>\n",
       "      <th>Year</th>\n",
       "      <th>Genre</th>\n",
       "      <th>Publisher</th>\n",
       "      <th>NA_Sales</th>\n",
       "      <th>EU_Sales</th>\n",
       "      <th>JP_Sales</th>\n",
       "      <th>Other_Sales</th>\n",
       "      <th>Global_Sales</th>\n",
       "    </tr>\n",
       "  </thead>\n",
       "  <tbody>\n",
       "  </tbody>\n",
       "</table>\n",
       "</div>"
      ],
      "text/plain": [
       "Empty DataFrame\n",
       "Columns: [Rank, Name, Platform, Year, Genre, Publisher, NA_Sales, EU_Sales, JP_Sales, Other_Sales, Global_Sales]\n",
       "Index: []"
      ]
     },
     "execution_count": 62,
     "metadata": {},
     "output_type": "execute_result"
    }
   ],
   "source": [
    " \n",
    "# Selecting duplicate rows except first occurrence based on all columns\n",
    "duplicate = dataset[dataset.duplicated()]\n",
    "  \n",
    "print(\"Duplicate Rows :\")\n",
    "  \n",
    "# Print the resultant Dataframe\n",
    "duplicate"
   ]
  },
  {
   "cell_type": "markdown",
   "id": "2437573f",
   "metadata": {},
   "source": [
    "#### As output show no Duplicate Rows"
   ]
  },
  {
   "cell_type": "markdown",
   "id": "84d582d5",
   "metadata": {},
   "source": [
    "#### Our Dataset is clean right kow"
   ]
  },
  {
   "cell_type": "markdown",
   "id": "1ee371b9",
   "metadata": {},
   "source": [
    "    Step 3: Get to know your data and Visualizations"
   ]
  },
  {
   "cell_type": "code",
   "execution_count": 63,
   "id": "7ff84d18",
   "metadata": {},
   "outputs": [
    {
     "data": {
      "text/html": [
       "<div>\n",
       "<style scoped>\n",
       "    .dataframe tbody tr th:only-of-type {\n",
       "        vertical-align: middle;\n",
       "    }\n",
       "\n",
       "    .dataframe tbody tr th {\n",
       "        vertical-align: top;\n",
       "    }\n",
       "\n",
       "    .dataframe thead th {\n",
       "        text-align: right;\n",
       "    }\n",
       "</style>\n",
       "<table border=\"1\" class=\"dataframe\">\n",
       "  <thead>\n",
       "    <tr style=\"text-align: right;\">\n",
       "      <th></th>\n",
       "      <th>Rank</th>\n",
       "      <th>Name</th>\n",
       "      <th>Platform</th>\n",
       "      <th>Year</th>\n",
       "      <th>Genre</th>\n",
       "      <th>Publisher</th>\n",
       "      <th>NA_Sales</th>\n",
       "      <th>EU_Sales</th>\n",
       "      <th>JP_Sales</th>\n",
       "      <th>Other_Sales</th>\n",
       "      <th>Global_Sales</th>\n",
       "    </tr>\n",
       "  </thead>\n",
       "  <tbody>\n",
       "    <tr>\n",
       "      <th>0</th>\n",
       "      <td>1</td>\n",
       "      <td>Wii Sports</td>\n",
       "      <td>Wii</td>\n",
       "      <td>2006.0</td>\n",
       "      <td>Sports</td>\n",
       "      <td>Nintendo</td>\n",
       "      <td>41.49</td>\n",
       "      <td>29.02</td>\n",
       "      <td>3.77</td>\n",
       "      <td>8.46</td>\n",
       "      <td>82.74</td>\n",
       "    </tr>\n",
       "  </tbody>\n",
       "</table>\n",
       "</div>"
      ],
      "text/plain": [
       "   Rank        Name Platform    Year   Genre Publisher  NA_Sales  EU_Sales  \\\n",
       "0     1  Wii Sports      Wii  2006.0  Sports  Nintendo     41.49     29.02   \n",
       "\n",
       "   JP_Sales  Other_Sales  Global_Sales  \n",
       "0      3.77         8.46         82.74  "
      ]
     },
     "execution_count": 63,
     "metadata": {},
     "output_type": "execute_result"
    }
   ],
   "source": [
    "#The platform,game and the publisher which has the top sales in global sales\n",
    "dataset[dataset['Global_Sales'] == max(dataset['Global_Sales'])]"
   ]
  },
  {
   "cell_type": "code",
   "execution_count": 64,
   "id": "09d98d22",
   "metadata": {},
   "outputs": [
    {
     "data": {
      "text/html": [
       "<div>\n",
       "<style scoped>\n",
       "    .dataframe tbody tr th:only-of-type {\n",
       "        vertical-align: middle;\n",
       "    }\n",
       "\n",
       "    .dataframe tbody tr th {\n",
       "        vertical-align: top;\n",
       "    }\n",
       "\n",
       "    .dataframe thead th {\n",
       "        text-align: right;\n",
       "    }\n",
       "</style>\n",
       "<table border=\"1\" class=\"dataframe\">\n",
       "  <thead>\n",
       "    <tr style=\"text-align: right;\">\n",
       "      <th></th>\n",
       "      <th>Rank</th>\n",
       "      <th>Name</th>\n",
       "      <th>Platform</th>\n",
       "      <th>Year</th>\n",
       "      <th>Genre</th>\n",
       "      <th>Publisher</th>\n",
       "      <th>NA_Sales</th>\n",
       "      <th>EU_Sales</th>\n",
       "      <th>JP_Sales</th>\n",
       "      <th>Other_Sales</th>\n",
       "      <th>Global_Sales</th>\n",
       "    </tr>\n",
       "  </thead>\n",
       "  <tbody>\n",
       "    <tr>\n",
       "      <th>15980</th>\n",
       "      <td>15983</td>\n",
       "      <td>Turok</td>\n",
       "      <td>PC</td>\n",
       "      <td>2008.0</td>\n",
       "      <td>Action</td>\n",
       "      <td>Touchstone</td>\n",
       "      <td>0.00</td>\n",
       "      <td>0.01</td>\n",
       "      <td>0.00</td>\n",
       "      <td>0.0</td>\n",
       "      <td>0.01</td>\n",
       "    </tr>\n",
       "    <tr>\n",
       "      <th>15981</th>\n",
       "      <td>15984</td>\n",
       "      <td>Coven and Labyrinth of Refrain</td>\n",
       "      <td>PSV</td>\n",
       "      <td>2016.0</td>\n",
       "      <td>Action</td>\n",
       "      <td>Nippon Ichi Software</td>\n",
       "      <td>0.00</td>\n",
       "      <td>0.00</td>\n",
       "      <td>0.01</td>\n",
       "      <td>0.0</td>\n",
       "      <td>0.01</td>\n",
       "    </tr>\n",
       "    <tr>\n",
       "      <th>15982</th>\n",
       "      <td>15985</td>\n",
       "      <td>Super Battle For Money Sentouchuu: Kyuukyoku n...</td>\n",
       "      <td>3DS</td>\n",
       "      <td>2016.0</td>\n",
       "      <td>Action</td>\n",
       "      <td>Namco Bandai Games</td>\n",
       "      <td>0.00</td>\n",
       "      <td>0.00</td>\n",
       "      <td>0.01</td>\n",
       "      <td>0.0</td>\n",
       "      <td>0.01</td>\n",
       "    </tr>\n",
       "    <tr>\n",
       "      <th>15983</th>\n",
       "      <td>15986</td>\n",
       "      <td>Dragon Zakura DS</td>\n",
       "      <td>DS</td>\n",
       "      <td>2007.0</td>\n",
       "      <td>Misc</td>\n",
       "      <td>Electronic Arts</td>\n",
       "      <td>0.00</td>\n",
       "      <td>0.00</td>\n",
       "      <td>0.01</td>\n",
       "      <td>0.0</td>\n",
       "      <td>0.01</td>\n",
       "    </tr>\n",
       "    <tr>\n",
       "      <th>15984</th>\n",
       "      <td>15987</td>\n",
       "      <td>Chameleon: To Dye For!</td>\n",
       "      <td>DS</td>\n",
       "      <td>2006.0</td>\n",
       "      <td>Puzzle</td>\n",
       "      <td>505 Games</td>\n",
       "      <td>0.01</td>\n",
       "      <td>0.00</td>\n",
       "      <td>0.00</td>\n",
       "      <td>0.0</td>\n",
       "      <td>0.01</td>\n",
       "    </tr>\n",
       "    <tr>\n",
       "      <th>...</th>\n",
       "      <td>...</td>\n",
       "      <td>...</td>\n",
       "      <td>...</td>\n",
       "      <td>...</td>\n",
       "      <td>...</td>\n",
       "      <td>...</td>\n",
       "      <td>...</td>\n",
       "      <td>...</td>\n",
       "      <td>...</td>\n",
       "      <td>...</td>\n",
       "      <td>...</td>\n",
       "    </tr>\n",
       "    <tr>\n",
       "      <th>16593</th>\n",
       "      <td>16596</td>\n",
       "      <td>Woody Woodpecker in Crazy Castle 5</td>\n",
       "      <td>GBA</td>\n",
       "      <td>2002.0</td>\n",
       "      <td>Platform</td>\n",
       "      <td>Kemco</td>\n",
       "      <td>0.01</td>\n",
       "      <td>0.00</td>\n",
       "      <td>0.00</td>\n",
       "      <td>0.0</td>\n",
       "      <td>0.01</td>\n",
       "    </tr>\n",
       "    <tr>\n",
       "      <th>16594</th>\n",
       "      <td>16597</td>\n",
       "      <td>Men in Black II: Alien Escape</td>\n",
       "      <td>GC</td>\n",
       "      <td>2003.0</td>\n",
       "      <td>Shooter</td>\n",
       "      <td>Infogrames</td>\n",
       "      <td>0.01</td>\n",
       "      <td>0.00</td>\n",
       "      <td>0.00</td>\n",
       "      <td>0.0</td>\n",
       "      <td>0.01</td>\n",
       "    </tr>\n",
       "    <tr>\n",
       "      <th>16595</th>\n",
       "      <td>16598</td>\n",
       "      <td>SCORE International Baja 1000: The Official Game</td>\n",
       "      <td>PS2</td>\n",
       "      <td>2008.0</td>\n",
       "      <td>Racing</td>\n",
       "      <td>Activision</td>\n",
       "      <td>0.00</td>\n",
       "      <td>0.00</td>\n",
       "      <td>0.00</td>\n",
       "      <td>0.0</td>\n",
       "      <td>0.01</td>\n",
       "    </tr>\n",
       "    <tr>\n",
       "      <th>16596</th>\n",
       "      <td>16599</td>\n",
       "      <td>Know How 2</td>\n",
       "      <td>DS</td>\n",
       "      <td>2010.0</td>\n",
       "      <td>Puzzle</td>\n",
       "      <td>7G//AMES</td>\n",
       "      <td>0.00</td>\n",
       "      <td>0.01</td>\n",
       "      <td>0.00</td>\n",
       "      <td>0.0</td>\n",
       "      <td>0.01</td>\n",
       "    </tr>\n",
       "    <tr>\n",
       "      <th>16597</th>\n",
       "      <td>16600</td>\n",
       "      <td>Spirits &amp; Spells</td>\n",
       "      <td>GBA</td>\n",
       "      <td>2003.0</td>\n",
       "      <td>Platform</td>\n",
       "      <td>Wanadoo</td>\n",
       "      <td>0.01</td>\n",
       "      <td>0.00</td>\n",
       "      <td>0.00</td>\n",
       "      <td>0.0</td>\n",
       "      <td>0.01</td>\n",
       "    </tr>\n",
       "  </tbody>\n",
       "</table>\n",
       "<p>600 rows × 11 columns</p>\n",
       "</div>"
      ],
      "text/plain": [
       "        Rank                                               Name Platform  \\\n",
       "15980  15983                                              Turok       PC   \n",
       "15981  15984                     Coven and Labyrinth of Refrain      PSV   \n",
       "15982  15985  Super Battle For Money Sentouchuu: Kyuukyoku n...      3DS   \n",
       "15983  15986                                   Dragon Zakura DS       DS   \n",
       "15984  15987                             Chameleon: To Dye For!       DS   \n",
       "...      ...                                                ...      ...   \n",
       "16593  16596                 Woody Woodpecker in Crazy Castle 5      GBA   \n",
       "16594  16597                      Men in Black II: Alien Escape       GC   \n",
       "16595  16598   SCORE International Baja 1000: The Official Game      PS2   \n",
       "16596  16599                                         Know How 2       DS   \n",
       "16597  16600                                   Spirits & Spells      GBA   \n",
       "\n",
       "         Year     Genre             Publisher  NA_Sales  EU_Sales  JP_Sales  \\\n",
       "15980  2008.0    Action            Touchstone      0.00      0.01      0.00   \n",
       "15981  2016.0    Action  Nippon Ichi Software      0.00      0.00      0.01   \n",
       "15982  2016.0    Action    Namco Bandai Games      0.00      0.00      0.01   \n",
       "15983  2007.0      Misc       Electronic Arts      0.00      0.00      0.01   \n",
       "15984  2006.0    Puzzle             505 Games      0.01      0.00      0.00   \n",
       "...       ...       ...                   ...       ...       ...       ...   \n",
       "16593  2002.0  Platform                 Kemco      0.01      0.00      0.00   \n",
       "16594  2003.0   Shooter            Infogrames      0.01      0.00      0.00   \n",
       "16595  2008.0    Racing            Activision      0.00      0.00      0.00   \n",
       "16596  2010.0    Puzzle              7G//AMES      0.00      0.01      0.00   \n",
       "16597  2003.0  Platform               Wanadoo      0.01      0.00      0.00   \n",
       "\n",
       "       Other_Sales  Global_Sales  \n",
       "15980          0.0          0.01  \n",
       "15981          0.0          0.01  \n",
       "15982          0.0          0.01  \n",
       "15983          0.0          0.01  \n",
       "15984          0.0          0.01  \n",
       "...            ...           ...  \n",
       "16593          0.0          0.01  \n",
       "16594          0.0          0.01  \n",
       "16595          0.0          0.01  \n",
       "16596          0.0          0.01  \n",
       "16597          0.0          0.01  \n",
       "\n",
       "[600 rows x 11 columns]"
      ]
     },
     "execution_count": 64,
     "metadata": {},
     "output_type": "execute_result"
    }
   ],
   "source": [
    "#The platform,game and the publisher which has the low sales in global sales\n",
    "dataset[dataset['Global_Sales'] == min(dataset['Global_Sales'])]"
   ]
  },
  {
   "cell_type": "code",
   "execution_count": 112,
   "id": "f720718a",
   "metadata": {},
   "outputs": [
    {
     "data": {
      "image/png": "[encoded data removed]",
      "text/plain": [
       "<Figure size 720x360 with 1 Axes>"
      ]
     },
     "metadata": {
      "needs_background": "light"
     },
     "output_type": "display_data"
    },
    {
     "data": {
      "text/plain": [
       "<Figure size 432x288 with 0 Axes>"
      ]
     },
     "metadata": {},
     "output_type": "display_data"
    }
   ],
   "source": [
    "#The games produced in a each year\n",
    "plt.figure(figsize = (10,5))\n",
    "plt.title('The Games produced in a each Year')\n",
    "plt.bar(dataset[\"Year\"].value_counts().index, dataset[\"Year\"].value_counts())\n",
    "plt.show()\n",
    "#plt.savefig('test2.png')\n"
   ]
  },
  {
   "cell_type": "code",
   "execution_count": 65,
   "id": "e93d1cb0",
   "metadata": {},
   "outputs": [
    {
     "data": {
      "text/html": [
       "<div>\n",
       "<style scoped>\n",
       "    .dataframe tbody tr th:only-of-type {\n",
       "        vertical-align: middle;\n",
       "    }\n",
       "\n",
       "    .dataframe tbody tr th {\n",
       "        vertical-align: top;\n",
       "    }\n",
       "\n",
       "    .dataframe thead th {\n",
       "        text-align: right;\n",
       "    }\n",
       "</style>\n",
       "<table border=\"1\" class=\"dataframe\">\n",
       "  <thead>\n",
       "    <tr style=\"text-align: right;\">\n",
       "      <th></th>\n",
       "      <th>Global_Sales</th>\n",
       "    </tr>\n",
       "    <tr>\n",
       "      <th>Genre</th>\n",
       "      <th></th>\n",
       "    </tr>\n",
       "  </thead>\n",
       "  <tbody>\n",
       "    <tr>\n",
       "      <th>Action</th>\n",
       "      <td>1722.84</td>\n",
       "    </tr>\n",
       "    <tr>\n",
       "      <th>Adventure</th>\n",
       "      <td>234.59</td>\n",
       "    </tr>\n",
       "    <tr>\n",
       "      <th>Fighting</th>\n",
       "      <td>444.05</td>\n",
       "    </tr>\n",
       "    <tr>\n",
       "      <th>Misc</th>\n",
       "      <td>789.87</td>\n",
       "    </tr>\n",
       "    <tr>\n",
       "      <th>Platform</th>\n",
       "      <td>829.13</td>\n",
       "    </tr>\n",
       "    <tr>\n",
       "      <th>Puzzle</th>\n",
       "      <td>242.21</td>\n",
       "    </tr>\n",
       "    <tr>\n",
       "      <th>Racing</th>\n",
       "      <td>726.76</td>\n",
       "    </tr>\n",
       "    <tr>\n",
       "      <th>Role-Playing</th>\n",
       "      <td>923.83</td>\n",
       "    </tr>\n",
       "    <tr>\n",
       "      <th>Shooter</th>\n",
       "      <td>1026.20</td>\n",
       "    </tr>\n",
       "    <tr>\n",
       "      <th>Simulation</th>\n",
       "      <td>389.98</td>\n",
       "    </tr>\n",
       "    <tr>\n",
       "      <th>Sports</th>\n",
       "      <td>1309.24</td>\n",
       "    </tr>\n",
       "    <tr>\n",
       "      <th>Strategy</th>\n",
       "      <td>173.27</td>\n",
       "    </tr>\n",
       "  </tbody>\n",
       "</table>\n",
       "</div>"
      ],
      "text/plain": [
       "              Global_Sales\n",
       "Genre                     \n",
       "Action             1722.84\n",
       "Adventure           234.59\n",
       "Fighting            444.05\n",
       "Misc                789.87\n",
       "Platform            829.13\n",
       "Puzzle              242.21\n",
       "Racing              726.76\n",
       "Role-Playing        923.83\n",
       "Shooter            1026.20\n",
       "Simulation          389.98\n",
       "Sports             1309.24\n",
       "Strategy            173.27"
      ]
     },
     "execution_count": 65,
     "metadata": {},
     "output_type": "execute_result"
    }
   ],
   "source": [
    "#show which genre sold the most globally\n",
    "\n",
    "dataset[[\"Genre\",\"Global_Sales\"]].groupby(\"Genre\").sum()\n",
    "\n"
   ]
  },
  {
   "cell_type": "markdown",
   "id": "92190b92",
   "metadata": {},
   "source": [
    "The most sold genre of games globally is Action Genre. The lowst selling genre globally is Strategy Genre."
   ]
  },
  {
   "cell_type": "code",
   "execution_count": 67,
   "id": "bfd65dec",
   "metadata": {},
   "outputs": [
    {
     "data": {
      "text/plain": [
       "<AxesSubplot:xlabel='Genre', ylabel='Count'>"
      ]
     },
     "execution_count": 67,
     "metadata": {},
     "output_type": "execute_result"
    },
    {
     "data": {
      "image/png": "[encoded data removed]",
      "text/plain": [
       "<Figure size 864x432 with 1 Axes>"
      ]
     },
     "metadata": {
      "needs_background": "light"
     },
     "output_type": "display_data"
    }
   ],
   "source": [
    "plt.figure(figsize=(12,6))\n",
    "sns.histplot(dataset.Genre,bins=50)"
   ]
  },
  {
   "cell_type": "code",
   "execution_count": 68,
   "id": "b6c3c4cf",
   "metadata": {},
   "outputs": [
    {
     "data": {
      "text/plain": [
       "Text(0, 0.5, 'Global_Sales')"
      ]
     },
     "execution_count": 68,
     "metadata": {},
     "output_type": "execute_result"
    },
    {
     "data": {
      "image/png": "[encoded data removed]",
      "text/plain": [
       "<Figure size 864x360 with 1 Axes>"
      ]
     },
     "metadata": {
      "needs_background": "light"
     },
     "output_type": "display_data"
    }
   ],
   "source": [
    "#How does the Genre affect the Global_Sales\n",
    "plt.figure(figsize=(12,5))\n",
    "plt.scatter(x='Genre',y='Global_Sales',data=dataset)\n",
    "plt.xlabel('Genre')\n",
    "plt.ylabel('Global_Sales')"
   ]
  },
  {
   "cell_type": "code",
   "execution_count": 70,
   "id": "18725e09",
   "metadata": {},
   "outputs": [
    {
     "data": {
      "text/plain": [
       "array(['Wii', 'NES', 'GB', 'DS', 'X360', 'PS3', 'PS2', 'SNES', 'GBA',\n",
       "       '3DS', 'PS4', 'N64', 'PS', 'XB', 'PC', '2600', 'PSP', 'XOne', 'GC',\n",
       "       'WiiU', 'GEN', 'DC', 'PSV', 'SAT', 'SCD', 'WS', 'NG', 'TG16',\n",
       "       '3DO', 'GG', 'PCFX'], dtype=object)"
      ]
     },
     "execution_count": 70,
     "metadata": {},
     "output_type": "execute_result"
    }
   ],
   "source": [
    "#All the unique Platform in the dataset\n",
    "dataset['Platform'].unique()"
   ]
  },
  {
   "cell_type": "code",
   "execution_count": 71,
   "id": "0b7e005e",
   "metadata": {},
   "outputs": [
    {
     "data": {
      "image/png": "[encoded data removed]",
      "text/plain": [
       "<Figure size 1008x504 with 1 Axes>"
      ]
     },
     "metadata": {
      "needs_background": "light"
     },
     "output_type": "display_data"
    }
   ],
   "source": [
    "#To get the most games produced in a specific Gaming Platform:\n",
    "plt.figure(figsize = (14,7))\n",
    "plt.bar(dataset[\"Platform\"].value_counts().index, dataset[\"Platform\"].value_counts())\n",
    "plt.title(\"Most Games produced in Specific Gaming Platform\")\n",
    "plt.show()"
   ]
  },
  {
   "cell_type": "markdown",
   "id": "26bc5883",
   "metadata": {},
   "source": [
    "  Most Games is produced in DS and PS2 Gaming Platform"
   ]
  },
  {
   "cell_type": "code",
   "execution_count": 72,
   "id": "cd57944f",
   "metadata": {},
   "outputs": [
    {
     "data": {
      "image/png": "[encoded data removed]",
      "text/plain": [
       "<Figure size 720x360 with 1 Axes>"
      ]
     },
     "metadata": {
      "needs_background": "light"
     },
     "output_type": "display_data"
    }
   ],
   "source": [
    "# Global Sales Distribution\n",
    "plt.figure(figsize=(10,5))\n",
    "sns.kdeplot(dataset.Global_Sales, shade=True, color=\"g\", alpha=.7)\n",
    "plt.title('Global Sales Distribution')\n",
    "plt.show()"
   ]
  },
  {
   "cell_type": "markdown",
   "id": "42d6b856",
   "metadata": {},
   "source": [
    "Step 4: Picking your model"
   ]
  },
  {
   "cell_type": "markdown",
   "id": "8ac64078",
   "metadata": {},
   "source": [
    "1. Determining the relevancy of features using correlations,heatmap and pairplot"
   ]
  },
  {
   "cell_type": "code",
   "execution_count": 73,
   "id": "63b284b2",
   "metadata": {},
   "outputs": [
    {
     "data": {
      "text/html": [
       "<div>\n",
       "<style scoped>\n",
       "    .dataframe tbody tr th:only-of-type {\n",
       "        vertical-align: middle;\n",
       "    }\n",
       "\n",
       "    .dataframe tbody tr th {\n",
       "        vertical-align: top;\n",
       "    }\n",
       "\n",
       "    .dataframe thead th {\n",
       "        text-align: right;\n",
       "    }\n",
       "</style>\n",
       "<table border=\"1\" class=\"dataframe\">\n",
       "  <thead>\n",
       "    <tr style=\"text-align: right;\">\n",
       "      <th></th>\n",
       "      <th>Rank</th>\n",
       "      <th>Year</th>\n",
       "      <th>NA_Sales</th>\n",
       "      <th>EU_Sales</th>\n",
       "      <th>JP_Sales</th>\n",
       "      <th>Other_Sales</th>\n",
       "      <th>Global_Sales</th>\n",
       "    </tr>\n",
       "  </thead>\n",
       "  <tbody>\n",
       "    <tr>\n",
       "      <th>Rank</th>\n",
       "      <td>1.000000</td>\n",
       "      <td>0.178027</td>\n",
       "      <td>-0.400315</td>\n",
       "      <td>-0.379137</td>\n",
       "      <td>-0.269323</td>\n",
       "      <td>-0.332735</td>\n",
       "      <td>-0.426975</td>\n",
       "    </tr>\n",
       "    <tr>\n",
       "      <th>Year</th>\n",
       "      <td>0.178027</td>\n",
       "      <td>1.000000</td>\n",
       "      <td>-0.091285</td>\n",
       "      <td>0.006108</td>\n",
       "      <td>-0.169387</td>\n",
       "      <td>0.041128</td>\n",
       "      <td>-0.074647</td>\n",
       "    </tr>\n",
       "    <tr>\n",
       "      <th>NA_Sales</th>\n",
       "      <td>-0.400315</td>\n",
       "      <td>-0.091285</td>\n",
       "      <td>1.000000</td>\n",
       "      <td>0.768923</td>\n",
       "      <td>0.451283</td>\n",
       "      <td>0.634518</td>\n",
       "      <td>0.941269</td>\n",
       "    </tr>\n",
       "    <tr>\n",
       "      <th>EU_Sales</th>\n",
       "      <td>-0.379137</td>\n",
       "      <td>0.006108</td>\n",
       "      <td>0.768923</td>\n",
       "      <td>1.000000</td>\n",
       "      <td>0.436379</td>\n",
       "      <td>0.726256</td>\n",
       "      <td>0.903264</td>\n",
       "    </tr>\n",
       "    <tr>\n",
       "      <th>JP_Sales</th>\n",
       "      <td>-0.269323</td>\n",
       "      <td>-0.169387</td>\n",
       "      <td>0.451283</td>\n",
       "      <td>0.436379</td>\n",
       "      <td>1.000000</td>\n",
       "      <td>0.290559</td>\n",
       "      <td>0.612774</td>\n",
       "    </tr>\n",
       "    <tr>\n",
       "      <th>Other_Sales</th>\n",
       "      <td>-0.332735</td>\n",
       "      <td>0.041128</td>\n",
       "      <td>0.634518</td>\n",
       "      <td>0.726256</td>\n",
       "      <td>0.290559</td>\n",
       "      <td>1.000000</td>\n",
       "      <td>0.747964</td>\n",
       "    </tr>\n",
       "    <tr>\n",
       "      <th>Global_Sales</th>\n",
       "      <td>-0.426975</td>\n",
       "      <td>-0.074647</td>\n",
       "      <td>0.941269</td>\n",
       "      <td>0.903264</td>\n",
       "      <td>0.612774</td>\n",
       "      <td>0.747964</td>\n",
       "      <td>1.000000</td>\n",
       "    </tr>\n",
       "  </tbody>\n",
       "</table>\n",
       "</div>"
      ],
      "text/plain": [
       "                  Rank      Year  NA_Sales  EU_Sales  JP_Sales  Other_Sales  \\\n",
       "Rank          1.000000  0.178027 -0.400315 -0.379137 -0.269323    -0.332735   \n",
       "Year          0.178027  1.000000 -0.091285  0.006108 -0.169387     0.041128   \n",
       "NA_Sales     -0.400315 -0.091285  1.000000  0.768923  0.451283     0.634518   \n",
       "EU_Sales     -0.379137  0.006108  0.768923  1.000000  0.436379     0.726256   \n",
       "JP_Sales     -0.269323 -0.169387  0.451283  0.436379  1.000000     0.290559   \n",
       "Other_Sales  -0.332735  0.041128  0.634518  0.726256  0.290559     1.000000   \n",
       "Global_Sales -0.426975 -0.074647  0.941269  0.903264  0.612774     0.747964   \n",
       "\n",
       "              Global_Sales  \n",
       "Rank             -0.426975  \n",
       "Year             -0.074647  \n",
       "NA_Sales          0.941269  \n",
       "EU_Sales          0.903264  \n",
       "JP_Sales          0.612774  \n",
       "Other_Sales       0.747964  \n",
       "Global_Sales      1.000000  "
      ]
     },
     "execution_count": 73,
     "metadata": {},
     "output_type": "execute_result"
    }
   ],
   "source": [
    "## Determining the relevancy of features using correlations\n",
    "dataset.corr()"
   ]
  },
  {
   "cell_type": "markdown",
   "id": "401af6ff",
   "metadata": {},
   "source": [
    "From the correlations, it show that the columns NA_Sales has Strong postive relation ,JP_Sales has moderate postive relation,EU_Sales has Strong postive relation and Other_Sales has Strong postive relation. Year has no relation and Rank has moderate negtive relation for determining the global sale¶"
   ]
  },
  {
   "cell_type": "code",
   "execution_count": 102,
   "id": "237aa005",
   "metadata": {},
   "outputs": [
    {
     "data": {
      "image/png": "[encoded data removed]",
      "text/plain": [
       "<Figure size 720x720 with 2 Axes>"
      ]
     },
     "metadata": {
      "needs_background": "light"
     },
     "output_type": "display_data"
    }
   ],
   "source": [
    "## Determining the relevancy of features using heatmap \n",
    "features = dataset.corr()\n",
    "top_correlations_features = features.index\n",
    "plt.figure(figsize=(10,10))\n",
    "sns.heatmap(dataset[top_correlations_features].corr(),annot=True,linewidths=.5)\n",
    "plt.show() "
   ]
  },
  {
   "cell_type": "markdown",
   "id": "7dc056a6",
   "metadata": {},
   "source": [
    "#### From the heatmap, it show that the columns NA_Sales,JP_Sales,EU_Sales and Other_Sales are the most useful features in determining the global sale"
   ]
  },
  {
   "cell_type": "code",
   "execution_count": 104,
   "id": "78755622",
   "metadata": {},
   "outputs": [
    {
     "data": {
      "text/plain": [
       "<Figure size 648x576 with 0 Axes>"
      ]
     },
     "metadata": {},
     "output_type": "display_data"
    },
    {
     "data": {
      "image/png": "[encoded data removed]",
      "text/plain": [
       "<Figure size 900x900 with 30 Axes>"
      ]
     },
     "metadata": {
      "needs_background": "light"
     },
     "output_type": "display_data"
    }
   ],
   "source": [
    "## Determining the relevancy of features using pairplot\n",
    "plt.figure(figsize=(9,8))\n",
    "sns.pairplot(dataset.loc[0:,['NA_Sales','EU_Sales','JP_Sales','Other_Sales','Global_Sales']])\n",
    "plt.show()"
   ]
  },
  {
   "cell_type": "markdown",
   "id": "50fd7476",
   "metadata": {},
   "source": [
    "North America is the major market as the Global sales are highly correlated with it.\n",
    "Europe is also an important region.\n",
    "JP_Sales are not correlated with any region's sales."
   ]
  },
  {
   "cell_type": "markdown",
   "id": "e2fff03d",
   "metadata": {},
   "source": [
    "2. Train, Test Split For modelling Linear Regression \n"
   ]
  },
  {
   "cell_type": "code",
   "execution_count": 75,
   "id": "2e5d238c",
   "metadata": {},
   "outputs": [],
   "source": [
    "# take only the useful features of the dataset\n",
    "## Splitting the dataset into independent and dependent vaiables\n",
    "from sklearn.model_selection import train_test_split\n",
    "from sklearn.linear_model import LinearRegression\n",
    "from sklearn.metrics import r2_score\n",
    "X = dataset[['NA_Sales','EU_Sales','JP_Sales','Other_Sales']]\n",
    "y = dataset[['Global_Sales']]\n",
    "X_train, X_test, y_train, y_test = train_test_split(X, y, test_size=0.2, random_state=0)\n"
   ]
  },
  {
   "cell_type": "code",
   "execution_count": 76,
   "id": "e8623ab5",
   "metadata": {},
   "outputs": [
    {
     "data": {
      "text/plain": [
       "(13032, 4)"
      ]
     },
     "execution_count": 76,
     "metadata": {},
     "output_type": "execute_result"
    }
   ],
   "source": [
    "X_train.shape"
   ]
  },
  {
   "cell_type": "code",
   "execution_count": 77,
   "id": "0e3e743f",
   "metadata": {},
   "outputs": [
    {
     "data": {
      "text/plain": [
       "(3259, 4)"
      ]
     },
     "execution_count": 77,
     "metadata": {},
     "output_type": "execute_result"
    }
   ],
   "source": [
    "X_test.shape"
   ]
  },
  {
   "cell_type": "code",
   "execution_count": 78,
   "id": "e108307a",
   "metadata": {},
   "outputs": [
    {
     "data": {
      "text/plain": [
       "(13032, 1)"
      ]
     },
     "execution_count": 78,
     "metadata": {},
     "output_type": "execute_result"
    }
   ],
   "source": [
    "y_train.shape"
   ]
  },
  {
   "cell_type": "code",
   "execution_count": 79,
   "id": "cd772c5b",
   "metadata": {},
   "outputs": [
    {
     "data": {
      "text/plain": [
       "(3259, 1)"
      ]
     },
     "execution_count": 79,
     "metadata": {},
     "output_type": "execute_result"
    }
   ],
   "source": [
    "y_test.shape"
   ]
  },
  {
   "cell_type": "code",
   "execution_count": 81,
   "id": "5500a943",
   "metadata": {},
   "outputs": [
    {
     "data": {
      "text/plain": [
       "(16291, 4)"
      ]
     },
     "execution_count": 81,
     "metadata": {},
     "output_type": "execute_result"
    }
   ],
   "source": [
    "X.shape"
   ]
  },
  {
   "cell_type": "code",
   "execution_count": 82,
   "id": "a8563423",
   "metadata": {},
   "outputs": [
    {
     "data": {
      "text/plain": [
       "(16291, 1)"
      ]
     },
     "execution_count": 82,
     "metadata": {},
     "output_type": "execute_result"
    }
   ],
   "source": [
    "y.shape"
   ]
  },
  {
   "cell_type": "code",
   "execution_count": 83,
   "id": "c213825c",
   "metadata": {},
   "outputs": [
    {
     "data": {
      "text/plain": [
       "LinearRegression()"
      ]
     },
     "execution_count": 83,
     "metadata": {},
     "output_type": "execute_result"
    }
   ],
   "source": [
    "## Training the multiple linear regression on the training set\n",
    "Sales_R = LinearRegression()\n",
    "Sales_R.fit(X_train,y_train)"
   ]
  },
  {
   "cell_type": "markdown",
   "id": "7515d9b5",
   "metadata": {},
   "source": [
    "3. Predicting Test Data"
   ]
  },
  {
   "cell_type": "code",
   "execution_count": 84,
   "id": "49ef2a14",
   "metadata": {},
   "outputs": [
    {
     "data": {
      "text/plain": [
       "0.9999863067614225"
      ]
     },
     "execution_count": 84,
     "metadata": {},
     "output_type": "execute_result"
    }
   ],
   "source": [
    "predictions = Sales_R.predict(X_test)\n",
    "r2_score(y_test, predictions)"
   ]
  },
  {
   "cell_type": "markdown",
   "id": "c3efd267",
   "metadata": {},
   "source": [
    "4. Evaluations"
   ]
  },
  {
   "cell_type": "code",
   "execution_count": 85,
   "id": "873240af",
   "metadata": {},
   "outputs": [
    {
     "data": {
      "text/plain": [
       "0.9999894146080166"
      ]
     },
     "execution_count": 85,
     "metadata": {},
     "output_type": "execute_result"
    }
   ],
   "source": [
    "#r_squared for training set\n",
    "Sales_R.score(X_train,y_train)"
   ]
  },
  {
   "cell_type": "code",
   "execution_count": 86,
   "id": "533d995f",
   "metadata": {},
   "outputs": [
    {
     "data": {
      "text/plain": [
       "0.9999894120081414"
      ]
     },
     "execution_count": 86,
     "metadata": {},
     "output_type": "execute_result"
    }
   ],
   "source": [
    "#adjusted_r_squaredr for training set\n",
    "adjusted_r_squared = 1 - (1-Sales_R.score(X_train,y_train))*(len(y)-1)/(len(y)-X.shape[1]-1)\n",
    "adjusted_r_squared"
   ]
  },
  {
   "cell_type": "code",
   "execution_count": 87,
   "id": "f9abfb7e",
   "metadata": {},
   "outputs": [
    {
     "data": {
      "text/plain": [
       "0.9999863067614225"
      ]
     },
     "execution_count": 87,
     "metadata": {},
     "output_type": "execute_result"
    }
   ],
   "source": [
    "#r_squared for testing set\n",
    "r2_score(y_test, predictions)"
   ]
  },
  {
   "cell_type": "code",
   "execution_count": 88,
   "id": "338d6370",
   "metadata": {},
   "outputs": [
    {
     "data": {
      "text/plain": [
       "0.9999863033982299"
      ]
     },
     "execution_count": 88,
     "metadata": {},
     "output_type": "execute_result"
    }
   ],
   "source": [
    "#adjusted_r_squaredr for testing set\n",
    "adjusted_r_squared_1 = 1 - (1-(r2_score(y_test, predictions)))*(len(y)-1)/(len(y)-X.shape[1]-1)\n",
    "adjusted_r_squared_1"
   ]
  },
  {
   "cell_type": "markdown",
   "id": "4cef48ef",
   "metadata": {},
   "source": [
    "Step 5: How do I know if my model is good?"
   ]
  },
  {
   "cell_type": "markdown",
   "id": "6eb7297a",
   "metadata": {},
   "source": [
    "#### The model is fitting because adjusted_r_squared for training set close to testing set"
   ]
  },
  {
   "cell_type": "code",
   "execution_count": 89,
   "id": "97377199",
   "metadata": {},
   "outputs": [
    {
     "name": "stdout",
     "output_type": "stream",
     "text": [
      "Coefficients: \n",
      " [[0.99991848 0.99995408 0.99992023 0.99973702]]\n"
     ]
    }
   ],
   "source": [
    "# The coefficients\n",
    "print('Coefficients: \\n', Sales_R.coef_)"
   ]
  },
  {
   "cell_type": "markdown",
   "id": "b80d546c",
   "metadata": {},
   "source": [
    "Interpreting the coefficients:\n",
    "\n",
    "    Holding all other features fixed, a 1 unit increase in NA_Sale is associated with an increase of 0.99 Global_Sales.\n",
    "    Holding all other features fixed, a 1 unit increase in EU_Sales is associated with an increase of 0.99Global_Sales.\n",
    "    Holding all other features fixed, a 1 unit increase in JP_Sales'is associated with an increase of 0.99 Global_Sales.\n",
    "    Holding all other features fixed, a 1 unit increase in Other_Sales is associated with an increase of 0.99 Global_Sales.\n",
    "\n"
   ]
  },
  {
   "cell_type": "markdown",
   "id": "1a51159f",
   "metadata": {},
   "source": [
    "     I have gotten a very good model with a good fit. Let's quickly explore the residuals to make sure everything was okay with my data.Plot a histogram of the residuals and make sure it looks normally distributed."
   ]
  },
  {
   "cell_type": "code",
   "execution_count": 90,
   "id": "ecaac12d",
   "metadata": {},
   "outputs": [
    {
     "data": {
      "image/png": "[encoded data removed]",
      "text/plain": [
       "<Figure size 432x288 with 1 Axes>"
      ]
     },
     "metadata": {
      "needs_background": "light"
     },
     "output_type": "display_data"
    }
   ],
   "source": [
    "sns.histplot((y_test-predictions),bins=100,kde=True);\n"
   ]
  },
  {
   "cell_type": "code",
   "execution_count": 91,
   "id": "085b34ce",
   "metadata": {},
   "outputs": [
    {
     "name": "stdout",
     "output_type": "stream",
     "text": [
      "y-intercept: \n",
      " [0.00030232]\n"
     ]
    }
   ],
   "source": [
    "#Check contain a constant or not\n",
    "#Sklearn give us the y-intercept\n",
    "print('y-intercept: \\n', Sales_R.intercept_)\n"
   ]
  },
  {
   "cell_type": "code",
   "execution_count": 101,
   "id": "95751468",
   "metadata": {},
   "outputs": [
    {
     "data": {
      "text/html": [
       "<div>\n",
       "<style scoped>\n",
       "    .dataframe tbody tr th:only-of-type {\n",
       "        vertical-align: middle;\n",
       "    }\n",
       "\n",
       "    .dataframe tbody tr th {\n",
       "        vertical-align: top;\n",
       "    }\n",
       "\n",
       "    .dataframe thead th {\n",
       "        text-align: right;\n",
       "    }\n",
       "</style>\n",
       "<table border=\"1\" class=\"dataframe\">\n",
       "  <thead>\n",
       "    <tr style=\"text-align: right;\">\n",
       "      <th></th>\n",
       "      <th>NA_Sales</th>\n",
       "      <th>EU_Sales</th>\n",
       "      <th>JP_Sales</th>\n",
       "      <th>Other_Sales</th>\n",
       "      <th>Global_Sales</th>\n",
       "    </tr>\n",
       "  </thead>\n",
       "  <tbody>\n",
       "    <tr>\n",
       "      <th>NA_Sales</th>\n",
       "      <td>1.000000</td>\n",
       "      <td>0.768923</td>\n",
       "      <td>0.451283</td>\n",
       "      <td>0.634518</td>\n",
       "      <td>0.941269</td>\n",
       "    </tr>\n",
       "    <tr>\n",
       "      <th>EU_Sales</th>\n",
       "      <td>0.768923</td>\n",
       "      <td>1.000000</td>\n",
       "      <td>0.436379</td>\n",
       "      <td>0.726256</td>\n",
       "      <td>0.903264</td>\n",
       "    </tr>\n",
       "    <tr>\n",
       "      <th>JP_Sales</th>\n",
       "      <td>0.451283</td>\n",
       "      <td>0.436379</td>\n",
       "      <td>1.000000</td>\n",
       "      <td>0.290559</td>\n",
       "      <td>0.612774</td>\n",
       "    </tr>\n",
       "    <tr>\n",
       "      <th>Other_Sales</th>\n",
       "      <td>0.634518</td>\n",
       "      <td>0.726256</td>\n",
       "      <td>0.290559</td>\n",
       "      <td>1.000000</td>\n",
       "      <td>0.747964</td>\n",
       "    </tr>\n",
       "    <tr>\n",
       "      <th>Global_Sales</th>\n",
       "      <td>0.941269</td>\n",
       "      <td>0.903264</td>\n",
       "      <td>0.612774</td>\n",
       "      <td>0.747964</td>\n",
       "      <td>1.000000</td>\n",
       "    </tr>\n",
       "  </tbody>\n",
       "</table>\n",
       "</div>"
      ],
      "text/plain": [
       "              NA_Sales  EU_Sales  JP_Sales  Other_Sales  Global_Sales\n",
       "NA_Sales      1.000000  0.768923  0.451283     0.634518      0.941269\n",
       "EU_Sales      0.768923  1.000000  0.436379     0.726256      0.903264\n",
       "JP_Sales      0.451283  0.436379  1.000000     0.290559      0.612774\n",
       "Other_Sales   0.634518  0.726256  0.290559     1.000000      0.747964\n",
       "Global_Sales  0.941269  0.903264  0.612774     0.747964      1.000000"
      ]
     },
     "execution_count": 101,
     "metadata": {},
     "output_type": "execute_result"
    }
   ],
   "source": [
    "#check Multicollinearity\n",
    "Mul = dataset[['NA_Sales','EU_Sales','JP_Sales','Other_Sales','Global_Sales']]\n",
    "Mul.corr()\n"
   ]
  },
  {
   "cell_type": "code",
   "execution_count": null,
   "id": "7345ed41",
   "metadata": {},
   "outputs": [],
   "source": []
  },
  {
   "cell_type": "markdown",
   "id": "243a8b1e",
   "metadata": {},
   "source": [
    "## Thanks"
   ]
  }
 ],
 "metadata": {
  "kernelspec": {
   "display_name": "Python 3",
   "language": "python",
   "name": "python3"
  },
  "language_info": {
   "codemirror_mode": {
    "name": "ipython",
    "version": 3
   },
   "file_extension": ".py",
   "mimetype": "text/x-python",
   "name": "python",
   "nbconvert_exporter": "python",
   "pygments_lexer": "ipython3",
   "version": "3.8.8"
  }
 },
 "nbformat": 4,
 "nbformat_minor": 5
}
